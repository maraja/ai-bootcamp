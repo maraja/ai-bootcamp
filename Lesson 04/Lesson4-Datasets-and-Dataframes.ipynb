{
 "cells": [
  {
   "cell_type": "markdown",
   "metadata": {},
   "source": [
    "<img style=\"width:450px;\" src=\"https://durhamcollege.ca/wp-content/uploads/ai-hub-header.jpg\" alt=\"DC Logo\"/>"
   ]
  },
  {
   "cell_type": "markdown",
   "metadata": {},
   "source": [
    "# LESSON 4 - Datasets & DataFrames\n",
    "## <span style=\"color: green\">OVERVIEW</span>\n",
    "**Background:** For this boot camp, we will be scraping data from data-sets into data-frames using the ‘pandas’ library. Data scraping is about obtaining data from webpages or other data-sets. There is low level scraping where you parse data out of the HTML or XML code of a webpage. You can also scrape data from the APIs of certain websites as well as pre-compiled datasets.\n",
    "\n",
    "**Reminders:**\n",
    "-\tMake use of short-cuts, like tab completion\n",
    "-\tMake use of Google; Resources can help you turn snippets into fully             functional code\n",
    "-\tMake variable names meaningful!!!\n",
    "    - (a = b * c) can be harder to interpret when contextual errors arise\n",
    "    - Using contextually relevant variable names can make it easier for \n",
    "      others to jump in and contribute to, or analyze your code when you get stuck\n",
    "- **Comment your code for clear logic!**\n",
    "\n",
    "\n",
    "## Launch Jupyter Notebook\n",
    "1.\tLaunch ‘Jupyter Notebook’ using the shortcut you created in Lesson 1\n",
    "2.\tNavigate to your Lesson 4 folder\n",
    "3.\tSelect & Duplicate the ‘Lesson4-Reference.ipynb’ file\n",
    "    - *You will be tinkering – things might break – it’s a backup*\n",
    "4.\tOpen the new duplicate file & Rename it: **‘scraping-intro’**\n",
    "\n",
    "**Note:** \n",
    "\n",
    "- <span style=\"color: blue\">**Answer any questions in bold and blue in the code block(cell) below each section.** </span>\n",
    "  \n",
    "- <span style=\"color: green\">*Any statements in italic and green are for consideration and should help guide you to understand the code involved.* </span>\n"
   ]
  },
  {
   "cell_type": "markdown",
   "metadata": {},
   "source": [
    "<br/><br/><hr/><br/><br/>\n",
    "\n",
    "# <span style=\"color: green\">SECTION 1</span>\n",
    "### Import the Required Libraries\n",
    "-\tRun the import snippet to ensure there are no errors\n",
    "-\tMake note of the libraries being imported, and the namespaces used\n",
    "-\tReference links for each library can be found in the **Code-Reference.gdoc**\n",
    "\n",
    "**Pandas Reference Documentation:** http://pandas.pydata.org/pandas-docs/stable/"
   ]
  },
  {
   "cell_type": "code",
   "execution_count": null,
   "metadata": {
    "collapsed": true
   },
   "outputs": [],
   "source": [
    "from IPython.display import HTML\n",
    "import re # regular expressions\n",
    "\n",
    "## IMPORT NUMPY\n",
    "import numpy as np\n",
    "\n",
    "## IMPORT SEABORN & MatPlotLib\n",
    "import matplotlib.pyplot as plt\n",
    "import seaborn as sns\n",
    "sns.set()\n",
    "%matplotlib inline\n",
    "\n",
    "## IMPORT PANDAS\n",
    "import pandas as pd"
   ]
  },
  {
   "cell_type": "markdown",
   "metadata": {},
   "source": [
    "<br/><br/><hr/><br/><br/>\n",
    "\n",
    "# <span style=\"color: green\">SECTION 2</span>\n",
    "### Read the User Data\n",
    "\n",
    "- Pandas has a function to read CSV files and turn them into tables\n",
    "    - These tables are called DataFrames\n",
    "\n",
    "\n",
    "- <span style=\"color: blue\"> ***Alter the 'users.head()' code below to return more than 5 rows of user data at a time.*** </span>\n",
    "- <span style=\"color: green\"> *What happens if you change the column names in **'u_cols'** ?* </span>\n",
    "- <span style=\"color: green\"> *What happens if you change the separator type to **sep='\\t'** ?* </span>"
   ]
  },
  {
   "cell_type": "code",
   "execution_count": null,
   "metadata": {},
   "outputs": [],
   "source": [
    "# Pass in column names for each CSV column\n",
    "u_cols = ['user_id', 'age', 'sex', 'occupation', 'zip_code']\n",
    "\n",
    "# Convert data from CSV into a DataFrame called 'users'\n",
    "users = pd.read_csv(\n",
    "    'http://files.grouplens.org/datasets/movielens/ml-100k/u.user', \n",
    "    sep='|', names=u_cols)\n",
    "\n",
    "# Change the amount of data returned by the .head() function\n",
    "# By default it returns the first 5 rows of data in the specified dataframe\n",
    "users.head()"
   ]
  },
  {
   "cell_type": "markdown",
   "metadata": {},
   "source": [
    "<br/><br/><hr/><br/><br/>\n",
    "\n",
    "# <span style=\"color: green\">SECTION 3</span>\n",
    "### Read the Movie Ratings\n",
    "\n",
    "*Use the code in Section 2 as a reference for completing this section.*\n",
    "\n",
    "- How can you find information regarding a dataset?\n",
    "    - This situation is unique as we have been provided a pre-compiled data-set       with a resource for how the data is assembled\n",
    "    - http://files.grouplens.org/datasets/movielens/ml-100k\n",
    "    \n",
    "    \n",
    "- Open the **'README'** file and observe the 'u.data' information\n",
    "- Open the **'u.data'** file and observe the structure of the data\n",
    "    - When understanding how data should be read by 'pandas', it is important to view the data itself as opposed to relying solely on the documentation that may or may not be provided as it can contain visual clues to how it should be interpreted.\n",
    "    - <span style=\"color: green\">*How many columns of data are there?*</span>\n",
    "    - <span style=\"color: green\">*What are the column names?*</span>\n",
    "    - <span style=\"color: green\">*What are the data-types?*</span>\n",
    "    \n",
    "<img src=\"https://i.ytimg.com/vi/9B612wK056c/hqdefault.jpg\" width=\"500px\" />\n",
    "<span style=\"color: red\" align=\"center\"> *From this point on it is important to follow any naming conventions specified in order to tie in the different sections' code without errors.* </span>\n",
    "\n",
    "<span style=\"color: blue\"> **Load the CSV data for movie ratings into a DataFrame called 'ratings'.** </span>\n",
    "\n",
    "- The dataset is provided in the comments of the code block below."
   ]
  },
  {
   "cell_type": "code",
   "execution_count": null,
   "metadata": {
    "collapsed": true
   },
   "outputs": [],
   "source": [
    "# Pass in column names for each CSV column\n",
    "r_cols = ['user_id', 'movie_id', 'rating', 'unix_timestamp']\n",
    "\n",
    "# 'http://files.grouplens.org/datasets/movielens/ml-100ku.data' \n",
    "# Convert into a DataFrame called 'ratings'\n",
    "\n",
    "\n",
    "# Return the first 5 rows of data from 'ratings'\n"
   ]
  },
  {
   "cell_type": "markdown",
   "metadata": {},
   "source": [
    "<br/><br/><hr/><br/><br/>\n",
    "\n",
    "# <span style=\"color: green\">SECTION 4</span>\n",
    "### Read the Movie Information\n",
    "\n",
    "*Specifying columns can be beneficial when trying to limit the amount of data that has to be processed, or the memory it requires.*\n",
    "- This example uses **usecols** in conjunction with the **range()** function to select the first 5 **columns** of data.\n",
    "    - Notice how there are 5 column names in 'm_cols' and a range of 5 columns.\n",
    "    \n",
    "    \n",
    "- <span style=\"color: blue\">**Complete the code below in order to experiment with the output.**</span>\n",
    "\n",
    "\n",
    "- <span style=\"color: green\">*Why is their encoding for this data, but not the others?*</span>\n",
    "- <span style=\"color: green\">*What happens when you remove, or change it?*</span>\n",
    "- <span style=\"color: green\">*What happens when the column range does not match the number of column names provided?*</span>"
   ]
  },
  {
   "cell_type": "code",
   "execution_count": null,
   "metadata": {
    "collapsed": true,
    "scrolled": true
   },
   "outputs": [],
   "source": [
    "# The movies file contains columns indicating the movie's genres\n",
    "# let's only load the first 5 columns of the file with usecols\n",
    "m_cols = ['movie_id', 'title', 'release_date', \n",
    "            'video_release_date', 'imdb_url']\n",
    "\n",
    "# Convert data from CSV into a DataFrame called 'movies'\n",
    "movies = pd.read_csv(\n",
    "    'http://files.grouplens.org/datasets/movielens/ml-100k/u.item', \n",
    "    sep='|', names=m_cols, usecols=range(5), encoding = \"ISO-8859-1\")\n",
    "\n",
    "# Return the first 5 rows of data from 'movies'\n"
   ]
  },
  {
   "cell_type": "markdown",
   "metadata": {},
   "source": [
    "<br/><br/><hr/><br/><br/>\n",
    "\n",
    "# <span style=\"color: green\">SECTION 5</span>\n",
    "### Get Information About the Movie Data\n",
    "\n",
    "*The functions being used are from the ‘pandas’ library.*\n",
    "- <span style=\"color: blue\">**Use the pandas reference provided above to determine how to return the datatypes of each column in the 'movies' DataFrame.**</span>\n",
    "- <span style=\"color: green\">*Why are only two columns returned for the ‘.describe( )’ function below?*</span>\n"
   ]
  },
  {
   "cell_type": "code",
   "execution_count": null,
   "metadata": {},
   "outputs": [],
   "source": [
    "#   How do you get the datatype of each column in a DataFrame\n",
    "\n",
    "\n",
    "#   According to the pandas reference; How does this function determine what to return?\n",
    "#   What are the benefits of these limitations?\n",
    "print(movies.describe())"
   ]
  },
  {
   "cell_type": "markdown",
   "metadata": {},
   "source": [
    "<br/><br/><hr/><br/><br/>\n",
    "\n",
    "# <span style=\"color: green\">SECTION 6</span>\n",
    "### Selecting Data\n",
    "\n",
    "-\tRead over the code to ensure you understand the logic involved\n",
    "    -   *A DataFrame is a group of Series’ with a shared index*\n",
    "    -   *A single DataFrame column holds a single Series*\n",
    "\n",
    "**DataFrame => group of Series with shared index**\n",
    "\n",
    "**single DataFrame column => Series**\n",
    "\n",
    "Therefore, each **column of data** in a DataFrame is considered a **Series**\n",
    "\n",
    "- <span style=\"color: blue\">**Print the data for the first five rows with the columns you want**</span>\n",
    "- <span style=\"color: blue\">**Use the ‘.iloc[ ]’ function to return and print the user data (for UserID 5) from the 'users' DataFrame you created above.**</span>\n",
    "\n",
    "\n",
    "- <span style=\"color: green\">*Why is the completed output no longer formatted like section 4 and prior?*</span>\n",
    "- <span style=\"color: green\">*Does the print function have a different output formatting than pandas?*</span>"
   ]
  },
  {
   "cell_type": "code",
   "execution_count": null,
   "metadata": {},
   "outputs": [],
   "source": [
    "# These functions are similar but return different data\n",
    "# Run both of them individually by commenting out the other and vice versa\n",
    "users.head()\n",
    "#users['occupation'].head()\n",
    "\n",
    "# This functionality is not limited to one column, \n",
    "# and can even be passed by reference!\n",
    "# Specify the column names that you want to return from the users dataset\n",
    "#columns_you_want = ['column_name1', 'column_name2']\n",
    "\n",
    "# Print the data for the first five rows with \n",
    "# the columns you want from the users dataset\n",
    "#print(users[columns_you_want].head())\n",
    "\n",
    "# Print the data of a specific row in the coumns_you_want using \n",
    "# the iloc[] function\n"
   ]
  },
  {
   "cell_type": "markdown",
   "metadata": {},
   "source": [
    "<br/><br/><hr/><br/><br/>\n",
    "\n",
    "# <span style=\"color: green\">SECTION 7</span>\n",
    "### Filtering Data\n",
    "\n",
    "- Selecting users older than 25 from the user data\n",
    "    - *Creating a new sub-DataFrame or sub-frame with that data*\n",
    "- Notice how the column name can be referenced via the data-set name \n",
    "    - *This is only possible after it has been processed into a DataFrame via pandas*\n",
    "\n",
    "\n",
    "- <span style=\"color: blue\">**Create a new sub-frame called 'youthStudents' and select only students under the age of 18**</span>"
   ]
  },
  {
   "cell_type": "code",
   "execution_count": null,
   "metadata": {},
   "outputs": [],
   "source": [
    "# Select users older than 25\n",
    "oldUsers = users[users.age > 25]\n",
    "oldUsers.head()\n",
    "\n",
    "# Select the first 10 users under the age of 18 who are also students\n"
   ]
  },
  {
   "cell_type": "markdown",
   "metadata": {},
   "source": [
    "<br/><br/><hr/><br/><br/>\n",
    "\n",
    "# <span style=\"color: green\">SECTION 8</span>\n",
    "### Overview Quiz 1\n",
    "\n",
    "**Using the 'users' DataFrame you created earlier in this lesson**\n",
    "1. <span style=\"color: blue\">**Show the first 3 users aged 40 and Male**</span>\n",
    "2. <span style=\"color: blue\">**Show the mean age of all Female Programmers**</span>\n",
    "\n",
    "#### Part 1"
   ]
  },
  {
   "cell_type": "code",
   "execution_count": null,
   "metadata": {
    "collapsed": true
   },
   "outputs": [],
   "source": [
    "# Show the first 3 users who are age 40 AND male\n"
   ]
  },
  {
   "cell_type": "markdown",
   "metadata": {},
   "source": [
    "#### Part 2"
   ]
  },
  {
   "cell_type": "code",
   "execution_count": null,
   "metadata": {
    "collapsed": true
   },
   "outputs": [],
   "source": [
    "# Show users who are female and programmers\n",
    "\n",
    "# Show statistical summary which includes the mean\n",
    "\n",
    "# Display as the mean age of all female programmers\n"
   ]
  },
  {
   "cell_type": "code",
   "execution_count": null,
   "metadata": {
    "collapsed": true
   },
   "outputs": [],
   "source": []
  },
  {
   "cell_type": "markdown",
   "metadata": {},
   "source": [
    "<br/><br/><hr/><br/><br/>\n",
    "\n",
    "# <span style=\"color: green\">SECTION 9</span>\n",
    "### SPLIT - APPLY - COMBINE\n",
    "<img src=\"https://camo.githubusercontent.com/60a1e7e95eaef8f9a99f43335368915eafedda3e/687474703a2f2f7777772e686f66726f652e6e65742f737461743537392f736c696465732f73706c69742d6170706c792d636f6d62696e652e706e67\" alt=\"Split-Apply-Combine\" style=\"width:250px;\"/>\n",
    "\n",
    "> Now that you've checked out the data, it's time for the fun part. \n",
    "\n",
    "> First, you will use a **groupby()** method to split the data into groups, where each group is an individual users corresponding movie data.\n",
    "\n",
    "> This is the **split** in *split-apply-combine*, and it results in a groupby object.\n",
    "\n",
    "> Such groupby objects are very useful. Remember that the **.describe()** method for a DataFrame returns summary statistics for numeric columns?\n",
    "Well, the .describe() method for DataFrameGroupBy objects returns summary statistics for each numeric column, but computed for each group in the split.\n",
    "\n",
    "> In our case, it's for each User ID.\n",
    "\n",
    "> This is an example of the **apply** in *split-apply-combine*: as you're applying a method to each group in the groupby object.\n",
    "\n",
    "> However, for the simple challenge below you will use the **count()** method to extract the information you want - which is the number of dilligent users (ie.the most active users).\n",
    "\n",
    "<hr/>\n",
    "<span style=\"padding-left:30px;color:green;\">*The image below shows a more tangible example of how data may be grouped.*</span>\n",
    "<img src=\"https://www.mathworks.com/help/matlab/ref/grouping_workflow.png\" alt=\"Split-Apply-Combine-2\" style=\"width:500px;\" />\n",
    "<hr/>\n",
    "> If you want to see what the grouping looks like, you can pass the groupby object to the function **list()** for a reminder.\n",
    "\n",
    "> Let's say that you wanted the mean or median user_rating_score for each year. You would apply the *.mean()* or *.median()* method, respectively, to the groupby object and **combine** these into a new DataFrame.\n",
    "\n",
    "> There's an important subtlety concerning the index of a DataFrame. Recall that the **.index** of a DataFrame consists of the row labels.\n",
    "\n",
    "> This index consists of the original row numbers, labelled by integers. Certain values ***may be missing* if you dropped some rows** during processing. The index consists of the values in the original column that you grouped by - and it is important to verify that the values you are referencing exist.\n",
    "\n",
    "### <span style=\"color: blue\">Challenge:</span> Find Diligent Users\n",
    "\n",
    "> For the challenge below, you're interested in the User ID and it's frequency in occurrence, compared to all other users:\n",
    "\n",
    "-\t**Split data based on the User ID**\n",
    "><span style=\"color: blue\">**groupby()**</span>\n",
    "    \n",
    "-\t**Apply the count() method**\n",
    "><span style=\"color: blue\">**count()**</span>\n",
    "    \n",
    "-\t**Combine the result in a new sub-frame called *'ratings_per_user'* and display it**\n",
    "><span style=\"color: blue\">**print() or head()**</span>\n",
    "\n"
   ]
  },
  {
   "cell_type": "code",
   "execution_count": null,
   "metadata": {
    "collapsed": true
   },
   "outputs": [],
   "source": [
    "# Split data into groups using the groupby() method\n",
    "# i.e.: grouped_data = dataframe.groupby('feature_name')\n",
    "\n",
    "\n",
    "# Apply the .count() method to the grouped data\n",
    "# Combine and display the data (store in a dataframe then print)\n",
    "\n"
   ]
  },
  {
   "cell_type": "markdown",
   "metadata": {},
   "source": [
    "<br/><br/><hr/><br/><br/>\n",
    "\n",
    "# <span style=\"color: green\">SECTION 10</span>\n",
    "### Overview Quiz 2\n",
    "\n",
    "1. <span style=\"color: blue\">**Get the Average Rating for the first 5 Movie ID's**</span>\n",
    "2. <span style=\"color: blue\">**Get the Movie Titles with the highest average rating**</span>\n",
    "3. <span style=\"color: blue\">**Get the number of ratings per Movie**</span>\n",
    "\n",
    "#### Part 1"
   ]
  },
  {
   "cell_type": "code",
   "execution_count": null,
   "metadata": {},
   "outputs": [],
   "source": [
    "# Split data into groups\n",
    "\n",
    "\n",
    "# Average and Combine\n",
    "\n",
    "\n",
    "# Display the new sub-frame\n",
    "print(\"Average Ratings:\")\n"
   ]
  },
  {
   "cell_type": "markdown",
   "metadata": {},
   "source": [
    "#### Part 2"
   ]
  },
  {
   "cell_type": "code",
   "execution_count": null,
   "metadata": {},
   "outputs": [],
   "source": [
    "# Get the maximum rating in the average ratings\n",
    "# maximum_rating = ?\n",
    "\n",
    "# Index the movies in the average ratings that are equal to the maximum rating determined above\n",
    "# Store those movie id's in a new dataframe\n",
    "\n",
    "\n",
    "# Display the good movie IDs\n",
    "print(\"Good Movies - IDs:\")\n",
    "\n",
    "\n",
    "# Display the titles of the good movie IDs if they are in the movies DataFrame\n",
    "# Use the .isin() function to determine what titles should be printed\n",
    "print(\"Good Movies - Titles\")\n"
   ]
  },
  {
   "cell_type": "markdown",
   "metadata": {},
   "source": [
    "#### Part 3"
   ]
  },
  {
   "cell_type": "code",
   "execution_count": null,
   "metadata": {},
   "outputs": [],
   "source": [
    "# Count the number of ratings per movie ID\n",
    "# Store them in a new sub-frame called 'how_many_ratings'\n",
    "# Reference Part 1 of the Quiz for the sub-frame you need to count\n",
    "\n",
    "\n",
    "# Display the number of ratings per movie that are equal to the maximum rating\n",
    "print(\"Number of Ratings per Movie:\")\n"
   ]
  },
  {
   "cell_type": "markdown",
   "metadata": {},
   "source": [
    "<br/><br/><hr/><br/><br/>\n",
    "\n",
    "# <span style=\"color: green\">SECTION 11</span>\n",
    "### Passing a Function\n",
    "\n",
    "Running the lambda function means for every iteration of an individual user ID (the column identifier in the dataset) there is a calculated mean/average added to the new DataFrame.\n",
    "\n",
    "<span style=\"color: blue\">**Complete and experiment with the code below.**</span>\n",
    "\n",
    "<span style=\"color: green\">*Notice how lambda is calling 'f:' and not ':f', what does this mean? Why is it important?*</span>"
   ]
  },
  {
   "cell_type": "code",
   "execution_count": null,
   "metadata": {
    "collapsed": true
   },
   "outputs": [],
   "source": [
    "# Get the average rating of each user ID\n",
    "# average_ratings = grouped_data.apply(lambda f: f.mean())\n",
    "\n",
    "# Display the first 5 rows of average ratings by user ID\n"
   ]
  },
  {
   "cell_type": "markdown",
   "metadata": {},
   "source": [
    "<br/><br/><hr/><br/><br/>\n",
    "\n",
    "# <span style=\"color: green\">SECTION 12</span>\n",
    "### Overview Quiz 3\n",
    "\n",
    "1. <span style=\"color: blue\">**Get the average rating per user**</span>\n",
    "2. <span style=\"color: blue\">**Get a list of all occupations and if they are male or female dominant**</span>\n",
    "3. <span style=\"color: blue\">**Get the total number of male and female users**</span>\n",
    "\n",
    "#### Part 1"
   ]
  },
  {
   "cell_type": "code",
   "execution_count": null,
   "metadata": {
    "collapsed": true
   },
   "outputs": [],
   "source": [
    "# Get the average rating per user\n",
    "\n",
    "\n",
    "# Get the movie ratings and group them by user ID\n",
    "# Create a new sub-frame called 'grouped_data' to store it in\n",
    "\n",
    "\n",
    "# Get the mean of the grouped_data\n",
    "# Create a new sub-frame called 'average_ratings' to store it in\n",
    "\n",
    "\n",
    "# Get the first 10 rows of average ratings sub-frame\n",
    "\n",
    "\n",
    "# Get and Display the number of ratings per movie\n",
    "\n"
   ]
  },
  {
   "cell_type": "markdown",
   "metadata": {},
   "source": [
    "#### Part 2"
   ]
  },
  {
   "cell_type": "code",
   "execution_count": null,
   "metadata": {
    "collapsed": true
   },
   "outputs": [],
   "source": [
    "# List all occupations and if they are male or female dominant\n",
    "\n",
    "# Get the gender and group by occupation\n",
    "# Create a new sub-frame called 'grouped_data' to store it in\n",
    "\n",
    "# Get a boolean value to represent male dominated occupations\n",
    "# Running the lambda function in this situation means\n",
    "# for every occupation with more males than females\n",
    "# a list with each occupation and a boolean value stating true or false is added to the new DataFrame\n",
    "\n",
    "\n",
    "# Display the sub-frame\n"
   ]
  },
  {
   "cell_type": "markdown",
   "metadata": {},
   "source": [
    "#### Part 3"
   ]
  },
  {
   "cell_type": "code",
   "execution_count": null,
   "metadata": {},
   "outputs": [],
   "source": [
    "# Get the total number of both male and female users\n",
    "\n",
    "# Use the sum() function to count the number of Male users\n",
    "# in the users dataset based on their gender\n",
    "print('Number of Male Users: ')\n",
    "\n",
    "\n",
    "# Use the sum() function to count the number of Female users\n",
    "# in the users dataset based on their gender\n",
    "print('Number of Female Users: ')\n"
   ]
  },
  {
   "cell_type": "markdown",
   "metadata": {},
   "source": [
    "<br/><br/><hr/><br/><br/>\n",
    "\n",
    "# <span style=\"color: green\">SECTION 13</span>\n",
    "### pandas Wrap-Up\n",
    "-\tTest your understanding of the content by putting it to practice!\n",
    "-\t<span style=\"color: blue\">***Do your best to implement your own versions of the following using the different data-sets and examples provided above:***</span>\n"
   ]
  },
  {
   "cell_type": "code",
   "execution_count": null,
   "metadata": {
    "collapsed": true
   },
   "outputs": [],
   "source": [
    "# Create a data frame\n",
    "\n",
    "# Get a sub-frame\n",
    "\n",
    "# Filter data\n",
    "\n",
    "# Use group-by\n",
    "\n",
    "# Apply a user defined function\n"
   ]
  },
  {
   "cell_type": "code",
   "execution_count": null,
   "metadata": {},
   "outputs": [],
   "source": [
    "# Below is a list of 'Line/Cell Magic' keywords that can be used in\n",
    "# conjunction with your Python code.\n",
    "\n",
    "# It is NOT necessary to use line magic for this workshop, however it is\n",
    "# a good tool to familiarize yourself with for future programming, and\n",
    "# interpreting examples you may encounter researching your new found knowledge.\n",
    "\n",
    "%lsmagic # Enables AutoMagic in your Jupyter Notebook\n",
    "\n",
    "# Line/Cell Magic Keywords - Built in magical functions"
   ]
  },
  {
   "cell_type": "code",
   "execution_count": null,
   "metadata": {
    "collapsed": true
   },
   "outputs": [],
   "source": []
  }
 ],
 "metadata": {
  "kernelspec": {
   "display_name": "Python 3",
   "language": "python",
   "name": "python3"
  },
  "language_info": {
   "codemirror_mode": {
    "name": "ipython",
    "version": 3
   },
   "file_extension": ".py",
   "mimetype": "text/x-python",
   "name": "python",
   "nbconvert_exporter": "python",
   "pygments_lexer": "ipython3",
   "version": "3.6.3"
  }
 },
 "nbformat": 4,
 "nbformat_minor": 2
}
