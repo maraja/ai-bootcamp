{
 "cells": [
  {
   "cell_type": "markdown",
   "metadata": {
    "colab_type": "text",
    "id": "LMM_jwDgPUWm"
   },
   "source": [
    "<img style=\"width:450px;\" src=\"https://durhamcollege.ca/wp-content/uploads/ai-hub-header.jpg\" alt=\"DC Logo\"/>"
   ]
  },
  {
   "cell_type": "markdown",
   "metadata": {
    "colab_type": "text",
    "id": "KIEHjfZDPUWo"
   },
   "source": [
    "# LESSON 10a - Gaussian Naive Bayes & Pre-Processing\n",
    "\n",
    "## <span style=\"color: green\">OVERVIEW</span>\n",
    "\n",
    "- ref.: http://dataaspirant.com/2017/02/20/gaussian-naive-bayes-classifier-implementation-python/\n",
    "- data: https://archive.ics.uci.edu/ml/datasets/Adult\n",
    "\n",
    "<b>We have provided the data for you so there is no need to download it!</b>\n",
    "\n",
    "<hr />\n",
    "\n",
    ">**Section 1:** <a href=\"#Conditional-Probability-Examples\">Conditional Probability Examples</a>\n",
    "\n",
    ">**Section 2:** <a href=\"#Gaussian-Naive-Bayes\">Gaussian Naive Bayes</a>\n",
    "\n",
    ">**Section 3:** <a href=\"#Census-Income-Dataset\">Census Income Dataset</a>\n",
    "\n",
    ">**Section 4:** <a href=\"#Data-Dictionary\">Data Dictionary</a>\n",
    "\n",
    ">**Section 5:** <a href=\"#Import-Required-Libraries\">Import Required Libraries</a>\n",
    "\n",
    ">**Section 6:** <a href=\"#Import-Data\">Import Data</a>\n",
    "\n",
    ">**Section 7:** <a href=\"#Handling-Missing-Data\">Handling Missing Data</a>\n",
    "\n",
    "<hr />"
   ]
  },
  {
   "cell_type": "markdown",
   "metadata": {
    "colab_type": "text",
    "id": "QHeNtdHjPUWo"
   },
   "source": [
    "In this post, we are going to implement the Naive Bayes classifier in Python using the machine learning library scikit-learn. After which, we are going to use the trained Naive Bayes (supervised classification), model to predict the Income bracket of people based on our classifier.\n",
    "\n",
    "Let's quickly go over the basics of Naive Bayes:\n",
    "\n",
    "Bayes’ theorem is based on <b>conditional probability</b>. The conditional probability helps us calculating the probability that something will happen, given that something else has already happened. Not getting let’s understand with few examples.\n",
    "\n",
    "<hr />\n",
    "\n",
    "### <span style=\"color:#27ae60\">Conditional Probability Examples</span>\n",
    "\n",
    "Below are the few examples helps to clearly understand the definition of conditional probability.\n",
    "\n",
    "- Purchasing mac book when you already purchased the iPhone.\n",
    "- Having a refreshing drink when you are in the movie theater.\n",
    "- Buying peanuts when you brought a chilled soft drink.\n",
    "\n"
   ]
  },
  {
   "cell_type": "markdown",
   "metadata": {
    "colab_type": "text",
    "id": "8A1Q2IkvPUWp"
   },
   "source": [
    "<img style=\"width:350px;\" src=\"https://i2.wp.com/dataaspirant.com/wp-content/uploads/2017/02/Conditional_probability.jpg?w=500\" alt=\"Conditional Probability\" />"
   ]
  },
  {
   "cell_type": "markdown",
   "metadata": {
    "colab_type": "text",
    "id": "mpiqGZgjPUWq"
   },
   "source": [
    "Using the Bayes theorem the naive Bayes classifier assumes all the features are independent to each other. Even if the features depend on each other or upon the existence of the other features.\n",
    "\n",
    "The naive Bayes classifier considers all of these properties to independently contribute to the probability that a user will buy a MacBook.\n",
    "\n",
    "To learn the key concepts related to Naive Bayes. You can read our article on Introduction to Naive Bayes. This will help you understand the core concepts related to Naive Bayes.\n",
    "\n",
    "In the introduction to Naive Bayes post\n",
    "\n",
    "(https://dataaspirant.com/2017/02/06/naive-bayes-classifier-machine-learning/)\n",
    "\n",
    "Three popular Naive Bayes algorithms are covered:\n",
    "\n",
    "- Gaussian Naive Bayes,\n",
    "- Multinomial Naive Bayes.\n",
    "- Bernoulli Naive Bayes.\n",
    "\n",
    "We are going to implement **Gaussian Naive Bayes** on a “Census Income” dataset.\n",
    "\n",
    "### <span style=\"color:#27ae60\">Gaussian Naive Bayes</span>\n",
    "A Gaussian Naive Bayes algorithm is a special type of NB algorithm. It’s specifically used when the features have continuous values. It’s also assumed that all the features are following a gaussian distribution i.e, normal distribution.\n",
    "\n",
    "### <span style=\"color:#27ae60\">Census Income Dataset</span>\n",
    "The Census Income dataset is used to predict whether the income of a person is either: \n",
    "><p>&gt;\\$50K/yr (greater than \\$50K/yr)</p>\n",
    "><p>or</p>\n",
    "><p>&lt;=\\$50K/yr (less than or equal to \\$50K/yr)</p>\n",
    "\n",
    "<i>The data was collected by Barry Becker from 1994 Census dataset.</i>\n",
    "\n",
    "This dataset was contributed to a UCI repository, and It’s openly available at the link provided at the top of this lesson. The dataset consists of 15 columns of a mix of discrete as well as continuous data.\n",
    "\n",
    "### <span style=\"color:#27ae60\">Data Dictionary</span>\n",
    "#### <span style=\"color: red\">Please ensure that you understand the data fully before continuing the lesson.</span>"
   ]
  },
  {
   "cell_type": "markdown",
   "metadata": {
    "colab_type": "text",
    "id": "Yc13N97ZPUWr"
   },
   "source": [
    "<table style=\"height: 296px; width: 602px; border-color: #000000; background-color: #ffffff;\" border=\"1 px\">\n",
    "<tbody>\n",
    "<tr style=\"height: 24px;\">\n",
    "<td style=\"width: 37px; height: 24px; text-align: center;\"></td>\n",
    "<td style=\"width: 146px; height: 24px; text-align: center;\"><strong>Variable Name</strong></td>\n",
    "<td style=\"width: 425px; height: 24px; text-align: center;\"><strong>Variable Range</strong></td>\n",
    "</tr>\n",
    "<tr style=\"height: 29px;\">\n",
    "<td style=\"width: 37px; height: 29px; text-align: center;\">1.</td>\n",
    "<td style=\"width: 146px; height: 29px; text-align: center;\">age</td>\n",
    "<td style=\"width: 425px; height: 29px;\">&nbsp;[17 – 90]</td>\n",
    "</tr>\n",
    "<tr style=\"height: 87px;\">\n",
    "<td style=\"width: 37px; height: 87px; text-align: center;\">2.</td>\n",
    "<td style=\"width: 146px; height: 87px; text-align: center;\">workclass</td>\n",
    "<td style=\"width: 425px; height: 87px;\">[‘State-gov’, ‘Self-emp-not-inc’, ‘Private’, ‘Federal-gov’, ‘Local-gov’, ‘Self-emp-inc’, ‘Without-pay’, ‘Never-worked’]</td>\n",
    "</tr>\n",
    "<tr style=\"height: 30px;\">\n",
    "<td style=\"width: 37px; height: 30px; text-align: center;\">3.</td>\n",
    "<td style=\"width: 146px; height: 30px; text-align: center;\">fnlwgt</td>\n",
    "<td style=\"width: 425px; height: 30px;\">[77516- 257302]</td>\n",
    "</tr>\n",
    "<tr style=\"height: 12px;\">\n",
    "<td style=\"width: 37px; height: 12px; text-align: center;\">4.</td>\n",
    "<td style=\"width: 146px; height: 12px; text-align: center;\">education</td>\n",
    "<td style=\"width: 425px; height: 12px;\">\n",
    "<p class=\"\">[‘Bachelors’, ‘HS-grad’, ’11th’, ‘Masters’, ‘9th’, ‘Some-college’, ‘Assoc-acdm’, ‘Assoc-voc’, ‘7th-8th’, ‘Doctorate’, ‘Prof-school’, ‘5th-6th’, ’10th’, ‘1st-4th’, ‘Preschool’, ’12th’]</p>\n",
    "</td>\n",
    "</tr>\n",
    "<tr style=\"height: 31px;\">\n",
    "<td style=\"width: 37px; height: 31px; text-align: center;\">5.</td>\n",
    "<td style=\"width: 146px; height: 31px; text-align: center;\">education_num</td>\n",
    "<td style=\"width: 425px; height: 31px;\">[1 – 16]</td>\n",
    "</tr>\n",
    "<tr style=\"height: 24px;\">\n",
    "<td style=\"width: 37px; height: 24px; text-align: center;\">6.</td>\n",
    "<td style=\"width: 146px; height: 24px; text-align: center;\">marital_status</td>\n",
    "<td style=\"width: 425px; height: 24px;\">\n",
    "<p class=\"\">[‘Never-married’, ‘Married-civ-spouse’, ‘Divorced’, ‘Married-spouse-absent’, ‘Separated’, ‘Married-AF-spouse’, ‘Widowed’]</p>\n",
    "</td>\n",
    "</tr>\n",
    "<tr style=\"height: 24px;\">\n",
    "<td style=\"width: 37px; height: 24px; text-align: center;\">7.</td>\n",
    "<td style=\"width: 146px; height: 24px; text-align: center;\">occupation</td>\n",
    "<td style=\"width: 425px; height: 24px;\">\n",
    "<p class=\"\">[‘Adm-clerical’, ‘Exec-managerial’, ‘Handlers-cleaners’, ‘Prof-specialty’, ‘Other-service’, ‘Sales’, ‘Craft-repair’, ‘Transport-moving’, ‘Farming-fishing’, ‘Machine-op-inspct’, ‘Tech-support’, ‘Protective-serv’, ‘Armed-Forces’, ‘Priv-house-serv’]</p>\n",
    "</td>\n",
    "</tr>\n",
    "<tr style=\"height: 24px;\">\n",
    "<td style=\"width: 37px; height: 24px; text-align: center;\">8.</td>\n",
    "<td style=\"width: 146px; height: 24px; text-align: center;\">relationship</td>\n",
    "<td style=\"width: 425px; height: 24px;\">\n",
    "<p class=\"\">[‘Not-in-family’, ‘Husband’, ‘Wife’, ‘Own-child’, ‘Unmarried’, ‘Other-relative’]</p>\n",
    "</td>\n",
    "</tr>\n",
    "<tr style=\"height: 24px;\">\n",
    "<td style=\"width: 37px; height: 24px; text-align: center;\">9.</td>\n",
    "<td style=\"width: 146px; height: 24px; text-align: center;\">race</td>\n",
    "<td style=\"width: 425px; height: 24px;\">\n",
    "<p class=\"\">[‘White’, ‘Black’, ‘Asian-Pac-Islander’, ‘Amer-Indian-Eskimo’, ‘Other’]</p>\n",
    "</td>\n",
    "</tr>\n",
    "<tr style=\"height: 24px;\">\n",
    "<td style=\"width: 37px; height: 24px; text-align: center;\">10.</td>\n",
    "<td style=\"width: 146px; height: 24px; text-align: center;\">sex</td>\n",
    "<td style=\"width: 425px; height: 24px;\">\n",
    "<p class=\"\">[‘Male’, ‘Female’]</p>\n",
    "</td>\n",
    "</tr>\n",
    "<tr style=\"height: 29px;\">\n",
    "<td style=\"width: 37px; height: 29px; text-align: center;\">11.</td>\n",
    "<td style=\"width: 146px; height: 29px; text-align: center;\">capital_gain</td>\n",
    "<td style=\"width: 425px; height: 29px;\">[0 – 99999]</td>\n",
    "</tr>\n",
    "<tr style=\"height: 28px;\">\n",
    "<td style=\"width: 37px; height: 28px; text-align: center;\">12.</td>\n",
    "<td style=\"width: 146px; height: 28px; text-align: center;\">capital_loss</td>\n",
    "<td style=\"width: 425px; height: 28px;\">[0 –&nbsp;4356]</td>\n",
    "</tr>\n",
    "<tr style=\"height: 28px;\">\n",
    "<td style=\"width: 37px; height: 28px; text-align: center;\">13.</td>\n",
    "<td style=\"width: 146px; height: 28px; text-align: center;\">hours_per_week</td>\n",
    "<td style=\"width: 425px; height: 28px;\">[1 – 99]</td>\n",
    "</tr>\n",
    "<tr style=\"height: 24px;\">\n",
    "<td style=\"width: 37px; height: 24px; text-align: center;\">14.</td>\n",
    "<td style=\"width: 146px; height: 24px; text-align: center;\">native_country</td>\n",
    "<td style=\"width: 425px; height: 24px;\">\n",
    "<p class=\"\">[‘United-States’, ‘Cuba’, ‘Jamaica’, ‘India’, ‘Mexico’, ‘South’, ‘Puerto-Rico’, ‘Honduras’, ‘England’, ‘Canada’, ‘Germany’, ‘Iran’, ‘Philippines’, ‘Italy’, ‘Poland’, ‘Columbia’, ‘Cambodia’, ‘Thailand’, ‘Ecuador’, ‘Laos’, ‘Taiwan’, ‘Haiti’, ‘Portugal’, ‘Dominican-Republic’, ‘El-Salvador’, ‘France’, ‘Guatemala’, ‘China’, ‘Japan’, ‘Yugoslavia’, ‘Peru’, ‘Outlying-US(Guam-USVI-etc)’, ‘Scotland’, ‘Trinadad&amp;Tobago’, ‘Greece’, ‘Nicaragua’, ‘Vietnam’, ‘Hong’, ‘Ireland’, ‘Hungary’, ‘Holand-Netherlands’]</p>\n",
    "</td>\n",
    "</tr>\n",
    "<tr style=\"height: 13.5938px;\">\n",
    "<td style=\"width: 37px; height: 13.5938px; text-align: center;\">15.</td>\n",
    "<td style=\"width: 146px; height: 13.5938px; text-align: center;\">income</td>\n",
    "<td style=\"width: 425px; height: 13.5938px;\">\n",
    "<p class=\"\">&nbsp;[‘&lt;=50K’, ‘&gt;50K’]</p>\n",
    "</td>\n",
    "</tr>\n",
    "</tbody>\n",
    "</table>"
   ]
  },
  {
   "cell_type": "markdown",
   "metadata": {
    "colab_type": "text",
    "id": "PGvEgG_NPUWr"
   },
   "source": [
    "><b>The final target variable consists of two values: ‘&gt;=50K' &amp; ‘>50K’.</b>\n",
    "\n",
    ">*This is the variable we are trying to predict based on the others.*"
   ]
  },
  {
   "cell_type": "markdown",
   "metadata": {
    "colab_type": "text",
    "id": "avABR3k8PUWs"
   },
   "source": [
    "\n",
    "<hr />\n",
    "\n",
    "### <span style=\"color:#27ae60\">Import Required Libraries</span>\n",
    "\n",
    "We need to import pandas, numpy and sklearn libraries.\n",
    "\n",
    "The <b>train_test_split</b> module is for splitting the dataset into training and testing set.\n",
    "\n",
    "The <b>accuracy_score</b> module will be used for calculating the accuracy of our Gaussian Naive Bayes algorithm.\n",
    "\n",
    "From sklearn, we need to import preprocessing modules like **Imputer**. The Imputer package helps to impute the missing values that cannot be processed."
   ]
  },
  {
   "cell_type": "code",
   "execution_count": 44,
   "metadata": {
    "colab": {
     "autoexec": {
      "startup": false,
      "wait_interval": 0
     }
    },
    "colab_type": "code",
    "collapsed": true,
    "id": "xbhKKrjbPUWt"
   },
   "outputs": [],
   "source": [
    "# Required Python Machine learning Packages\n",
    "import pandas as pd\n",
    "import numpy as np\n",
    "\n",
    "# For preprocessing the data\n",
    "from sklearn.preprocessing import Imputer\n",
    "from sklearn import preprocessing\n",
    "\n",
    "# To split the dataset into train and test datasets\n",
    "from sklearn.model_selection import train_test_split\n",
    "\n",
    "# To model the Gaussian Navie Bayes classifier\n",
    "from sklearn.naive_bayes import GaussianNB\n",
    "\n",
    "# To calculate the accuracy score of the model\n",
    "from sklearn.metrics import accuracy_score"
   ]
  },
  {
   "cell_type": "markdown",
   "metadata": {
    "colab_type": "text",
    "id": "TsWixkYZPUWw"
   },
   "source": [
    "\n",
    "<hr />\n",
    "\n",
    "<img style=\"width:375px;\" src=\"http://s2.quickmeme.com/img/a7/a78187c76f9d27752fe5494e00c269095000e643328edfe59dfba42047276d7b.jpg\" />\n",
    "\n",
    "### <span style=\"color:#27ae60\">Import Data</span>\n",
    "For importing the census data, we are using pandas <b>read_csv()</b> method. This method is a very simple and fast method for importing data.\n",
    "\n",
    "We are passing four parameters. \n",
    "\n",
    "The **filename parameter** value is clearly *'adult.data'*. \n",
    "\n",
    "The **header parameter** is for giving details to pandas regarding whether the first row of data consists of headers or not. In our dataset, there is no header. So, we are passing *'None'*.\n",
    "\n",
    "The **delimiter parameter** is for giving the information the delimiter that is separating the data. Here, we are using the *Comma delimiter ( , )*. This delimiter is to show delete the spaces before and after the data values. \n",
    "\n",
    "The **engine parameter** is for ensuring the pandas read_csv method knows how to read the language used; Which is why we entered *'python'*, as it is the language we are working in.\n",
    "\n",
    "This is very helpful when there is inconsistency in spaces used with data values."
   ]
  },
  {
   "cell_type": "code",
   "execution_count": 45,
   "metadata": {
    "colab": {
     "autoexec": {
      "startup": false,
      "wait_interval": 0
     }
    },
    "colab_type": "code",
    "id": "TxGsABwePUWw"
   },
   "outputs": [
    {
     "data": {
      "text/plain": [
       "(32561, 15)"
      ]
     },
     "execution_count": 45,
     "metadata": {},
     "output_type": "execute_result"
    }
   ],
   "source": [
    "# Load the Dataset into a Dataframe\n",
    "adult_df = pd.read_csv('adult.data.txt', header=None, delimiter=',', engine='python')\n",
    "\n",
    "# View the shape of the dataframe \n",
    "# to understand and verify the size of the dataset\n",
    "adult_df.shape"
   ]
  },
  {
   "cell_type": "markdown",
   "metadata": {
    "colab_type": "text",
    "id": "M7s5j4KkPUWz"
   },
   "source": [
    "<hr />\n",
    "\n",
    "Let’s add headers to our dataframe. The below code snippet can be used to perform this task."
   ]
  },
  {
   "cell_type": "code",
   "execution_count": 46,
   "metadata": {
    "colab": {
     "autoexec": {
      "startup": false,
      "wait_interval": 0
     }
    },
    "colab_type": "code",
    "collapsed": true,
    "id": "NjxbKrG1PUW0"
   },
   "outputs": [],
   "source": [
    "# Adding Headers\n",
    "adult_df.columns = ['age', 'workclass', 'fnlwgt', 'education', 'education_num',\n",
    "                    'marital_status', 'occupation', 'relationship',\n",
    "                    'race', 'sex', 'capital_gain', 'capital_loss',\n",
    "                    'hours_per_week', 'native_country', 'income']"
   ]
  },
  {
   "cell_type": "markdown",
   "metadata": {
    "colab_type": "text",
    "id": "8yYNIqkkPUW2"
   },
   "source": [
    "<hr />\n",
    "\n",
    "### <span style=\"color:#27ae60\">Handling Missing Data</span>\n",
    "Let’s try to test whether there is any null values in our dataset or not. \n",
    ">We can do this using the isnull() method\n",
    "\n",
    ">In combination with the sum() method"
   ]
  },
  {
   "cell_type": "code",
   "execution_count": 47,
   "metadata": {
    "colab": {
     "autoexec": {
      "startup": false,
      "wait_interval": 0
     },
     "output_extras": [
      {}
     ]
    },
    "colab_type": "code",
    "id": "IOdS384GPUW3",
    "outputId": "fdb7a7d8-de66-4c28-bf77-9d16d8ea7b4f"
   },
   "outputs": [
    {
     "data": {
      "text/plain": [
       "age               0\n",
       "workclass         0\n",
       "fnlwgt            0\n",
       "education         0\n",
       "education_num     0\n",
       "marital_status    0\n",
       "occupation        0\n",
       "relationship      0\n",
       "race              0\n",
       "sex               0\n",
       "capital_gain      0\n",
       "capital_loss      0\n",
       "hours_per_week    0\n",
       "native_country    0\n",
       "income            0\n",
       "dtype: int64"
      ]
     },
     "execution_count": 47,
     "metadata": {},
     "output_type": "execute_result"
    }
   ],
   "source": [
    "# Find the Null values in the dataframe and sum them\n",
    "adult_df.isnull().sum()"
   ]
  },
  {
   "cell_type": "markdown",
   "metadata": {
    "colab_type": "text",
    "id": "Tt1m30kEPUW9"
   },
   "source": [
    "*The above output should show that there is no “null” value in our dataset.*\n",
    "\n",
    "<hr />\n",
    "\n",
    "**Let’s try to test whether any categorical attribute contains a “?” in it or not. At times there exists “?” or ” ” in place of missing values.**\n",
    "\n",
    "Using the starting code snippet below we are going to test whether our adult_df dataframe consists of categorical variables with values equal to “?”."
   ]
  },
  {
   "cell_type": "code",
   "execution_count": 48,
   "metadata": {
    "colab": {
     "autoexec": {
      "startup": false,
      "wait_interval": 0
     },
     "output_extras": [
      {}
     ]
    },
    "colab_type": "code",
    "collapsed": true,
    "id": "tRRI2WSzPUW-",
    "outputId": "b5b59428-2f8a-4025-b6b4-925563a92a71"
   },
   "outputs": [],
   "source": [
    "#for value in ['workclass', 'education', 'marital_status', 'occupation', \n",
    "#              'relationship','race', 'sex', 'native_country', 'income']:\n",
    "#    print(#?)"
   ]
  },
  {
   "cell_type": "markdown",
   "metadata": {
    "colab_type": "text",
    "id": "lr9WYQblPUXB"
   },
   "source": [
    "\n",
    "<hr />\n",
    "\n",
    "The output of the above code - once completed - should show that there are 1836 missing values in the 'workclass' attribute. 1843 missing values in the 'occupation' attribute and 583 missing values in 'native_country' attribute.\n",
    "\n",
    "<hr />\n",
    "\n",
    "### <span style=\"color:ForestGreen;padding-left:50px;\">Continue Pre-Processing your Data in Lesson 10b</span>"
   ]
  },
  {
   "cell_type": "code",
   "execution_count": null,
   "metadata": {
    "collapsed": true
   },
   "outputs": [],
   "source": []
  }
 ],
 "metadata": {
  "colab": {
   "default_view": {},
   "name": "Lesson10a - Gaussian Naive Bayes and Pre-Processing.ipynb",
   "provenance": [],
   "version": "0.3.2",
   "views": {}
  },
  "kernelspec": {
   "display_name": "Python 3",
   "language": "python",
   "name": "python3"
  },
  "language_info": {
   "codemirror_mode": {
    "name": "ipython",
    "version": 3
   },
   "file_extension": ".py",
   "mimetype": "text/x-python",
   "name": "python",
   "nbconvert_exporter": "python",
   "pygments_lexer": "ipython3",
   "version": "3.6.3"
  }
 },
 "nbformat": 4,
 "nbformat_minor": 1
}
