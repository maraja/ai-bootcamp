{
 "cells": [
  {
   "cell_type": "code",
   "execution_count": 1,
   "metadata": {
    "collapsed": true
   },
   "outputs": [],
   "source": [
    "from IPython.display import HTML"
   ]
  },
  {
   "cell_type": "markdown",
   "metadata": {},
   "source": [
    "<img style=\"width:450px;\" src=\"https://durhamcollege.ca/wp-content/uploads/ai-hub-header.jpg\" alt=\"DC Logo\"/>"
   ]
  },
  {
   "cell_type": "markdown",
   "metadata": {},
   "source": [
    "# LESSON 13  - Neural Networks\n",
    "\n",
    "## <span style=\"color: green\">OVERVIEW</span>\n",
    "\n",
    "This lesson, *restructured from the third in a series of ML tutorials created by Daniel Geng & Shannon Shih (https://ml.berkeley.edu/blog/2017/02/04/tutorial-3/)*, aims to make machine learning accessible to anyone willing to learn. They’ve designed it to give you a solid understanding of how ML algorithms work as well as provide you the knowledge to harness it in your projects."
   ]
  },
  {
   "cell_type": "markdown",
   "metadata": {},
   "source": [
    "Neural networks are perhaps one of the most exciting recent developments in machine learning. Got a problem? Just throw a neural net at it. Want to make a self-driving car? Throw a neural net at it. Want to fly a helicopter? Throw a neural net at it. Curious about the digestive cycles of your sheep? Heck, throw a neural net at it. This extremely powerful algorithm holds much promise (but can also be a bit overhyped). In this lesson we will go through how a neural network actually works, and in a future article we’ll discuss some of the limitations of these seemingly magical tools.\n",
    "\n",
    "<br/><br/><hr/><br/><br/>\n",
    "\n",
    "## <span style=\"color: green\">SECTION 1</span>\n",
    "\n",
    "### <span style=\"color: blue\">The Biology</span>\n",
    "\n",
    "The biological brain is perhaps the most powerful and efficient computer that we know of. Compared to our complex organ, even our most powerful supercomputers are a joke. In 2014, Japanese researchers used a supercomputer to simulate just one second of human brain activity. It took 40 minutes and 9.9 million watts. As for the real thing? The little ball of grey matter in our skulls runs on only 20 watts, which translates to roughly one McChicken a day.\n",
    "\n",
    "Neglecting a lot of details, biological neurons are cells that send and receive electrical impulses from other neurons that they are connected to. A neuron will only fire an electrical impulse when it receives impulses from other neurons that together are stronger than a certain threshold. Anything lower than that threshold and the neuron won’t do anything. Just what that threshold is depends on the chemical properties of the neuron in question and varies from neuron to neuron. Upon firing, an electrical impulse shoots out of the neuron and into more neurons downstream and the process continues. In the brain, billions of these interconnected neurons communicating with each other form the basis for consciousness, thought, and McChicken cravings.\n",
    "\n",
    "### <span style=\"color: blue\">The History</span>\n",
    "\n",
    "In the mid 1900’s, a couple of researchers came up with the idea of creating a “mathematical model” that would be based on how the brain works. They first created a model for a single neuron which imitated a real neuron’s outputs, inputs, and thresholds. The outputs of these single artificial neurons were then fed into even more artificial neurons, creating an entire artificial neural network.\n",
    "\n",
    "There was just one problem: While researchers had created a model of the human brain, they had no way of teaching it anything. The artificial brain could be wired in whatever way researchers wanted, but the vast majority of these wirings didn’t create a brain that had any logical output at all. What was needed was a learning algorithm for their artificial brain.\n",
    "\n",
    "It was not until the 1980’s that such an efficient learning algorithm was used on neural networks. The algorithm was called backpropagation, and finally allowed neural networks to be trained to do amazing things such as understanding speech and driving cars."
   ]
  },
  {
   "cell_type": "markdown",
   "metadata": {},
   "source": [
    "<br/><br/><hr/><br/><br/>\n",
    "\n",
    "## <span style=\"color: green\">SECTION 2</span>\n",
    "\n",
    "### <span style=\"color: blue\">Overview of the Model</span>\n",
    "\n",
    "Now that we know the basics of how the brain works and the history of neural networks, let’s look at what a neural network actually does. First off, we’ll think of our neural network as a black box, some machine whose inner workings we don’t really know about yet. We want this machine to take in some set number of numerical inputs (that we can choose) and spit out a set number of numerical outputs (that we can also choose).\n",
    "\n",
    "<img src=\"https://ml.berkeley.edu/blog/assets/tutorials/3/black%20box.png\" alt=\"\" style=\"width:355px;float:middle;\"/>\n",
    "<center>*A neural network takes in some inputs, math happens, and some number of outputs pop out.*</center>\n",
    "\n",
    "For example, if we want to classify images (say apples and oranges) then we’d want the number of inputs to be the number of pixels in our images, and the number of outputs to be the number of categories we have (two for the case of apples and oranges). If we were trying to model housing prices then the number of inputs would be the number of features we have, such as location, number of bathrooms, and square footage, and the number of outputs would be just one, for the price of the house.\n",
    "\n",
    "Our machine has inputs and outputs, but how do we control what inputs create what outputs? That is, how do we change the neural network so certain inputs (say an image of an apple) give the correct outputs (say a 0 for the probability of being an orange and a 1 for the probability of being an apple)? Well, we can add “knobs” to our machine to control the output for a given input. In machine learning lingo, these “knobs” are called the parameters of a neural network. If we tune these knobs to the correct place, then for any input we can get the output that we want.\n",
    "\n",
    "Going back to our apples and oranges example, if we give our machine an image of an apple but it tells us it thinks it’s an orange then we can go ahead and adjust the knobs of our machine (in other words, tune the parameters) until the machine tells us it sees an apple. In essence, this is what it means to train a neural network and this is exactly what the backpropagation algorithm does."
   ]
  },
  {
   "cell_type": "markdown",
   "metadata": {},
   "source": [
    "<br/><br/><hr/><br/><br/>\n",
    "\n",
    "## <span style=\"color: green\">SECTION 3</span>\n",
    "\n",
    "### <span style=\"color: blue\">Details of the Model</span>\n",
    "\n",
    "Now that we know what a neural network should do and roughly how we can get it to learn, let’s peer inside the black box and talk about what is happening inside the network. To start, we’ll discuss what happens inside a single artificial neuron and build it up from there.\n",
    "\n",
    "For those who have read our post on perceptrons in the previous lesson, this will be very familiar material. That’s because a neuron in a neural network is basically a perceptron on steroids. Similar to a perceptron, a neuron takes in any number of numerical inputs and spits out just one output. To get to this output, the neuron calculates an intermediate value called ss by multiplying each input by a different weight, adding them all together, and adding an additional number called the bias. \n",
    "\n",
    "***In math:***\n",
    ">**\\begin{equation*}\n",
    "s = weight_{1}\\times input_{1}+...+weight_{n}\\times input_{n}+bias\n",
    "\\end{equation*}**\n",
    "\n",
    "<img src=\"https://ml.berkeley.edu/blog/assets/tutorials/3/neuron.png\" alt=\"\" style=\"width:355px;float:middle;\"/>\n",
    "<center>*A neuron weights its inputs and then sums them up with a bias. An activation function is then applied, which produces the output for the neuron.*</center>\n"
   ]
  },
  {
   "cell_type": "markdown",
   "metadata": {},
   "source": [
    "Now each neuron could simply output ss, but that would be a bit boring as ss is just a linear function, which makes it rather inflexible for modeling real-world data. What we want to do instead is to add one more step, called an activation function. An activation function is any function that takes in our ss and gives the output of our neuron, called the activation. The perceptron that we described in the last post gave definitive yes/no answers using a blocky step function as its activation function.\n",
    "\n",
    "<img src=\"https://ml.berkeley.edu/blog/assets/tutorials/3/nondifferentiable%20ant%20analogy.png\" alt=\"\" style=\"width:355px;float:middle;\"/>\n",
    "<center>*For the step function, there is no way to tell how close you are to a “yes” or a “no”*</center>\n",
    "\n",
    "However, using a step function makes training very difficult because there’s no way to tell whether the neural network is getting closer or farther from the correct answer. Imagine you are an ant that can only see things very close to you. You are on the higher part of the step function trying to get to the lower part of the step function. But because everything is so flat, you wouldn’t know how far away the “step” part of the step function is, or even in which direction it is. The “blocky” structure makes the step function a bad activation function for neural networks.\n",
    "\n",
    "To make it easier to train a network, we’ll use a function that is smooth (in other words, a differentiable function). For example, we can use the sigmoid function, which looks something like this:\n",
    "\n",
    "<img src=\"https://ml.berkeley.edu/blog/assets/tutorials/3/differentiable%20ant%20analogy.png\" alt=\"\" style=\"width:355px;float:middle;\"/>\n",
    "<center>*A sigmoid function is a nice activation function because it is smooth everywhere, making it easier to figure out if you're getting closer to the top*</center>\n",
    "\n",
    "Going back to our ant analogy, an ant could figure out exactly which direction to go and how far to go just by checking in which direction and how much the graph slopes at its current location. Despite the fact that the ant can’t see the low part of the sigmoid function, it can get a rough idea of where it is by looking whether the part of the function it is standing on is sloping up or down.\n",
    "\n",
    "<br/><br/><hr/><br/><br/>\n",
    "\n",
    "## <span style=\"color: green\">SECTION 4</span>\n",
    "\n",
    "### <span style=\"color: blue\">Linking it All Together</span>\n",
    "\n",
    "We wouldn’t have much of a network if we just had one neuron, would we? The secret to a neural network’s ability to make complex decisions lies in its internal structure of interconnected neurons. Just like how neurons in the brain are connected to each other, the output of one neuron becomes the input of another neuron, allowing the neurons to work together to come up with the correct answer.\n",
    "\n",
    "<img src=\"https://ml.berkeley.edu/blog/assets/tutorials/3/output%20to%20input.png\" alt=\"\" style=\"width:355px;float:middle;\"/>\n",
    "<center>*The output of neuron 1 (blue) becomes the input of neuron 2 (green)*</center>\n",
    "\n",
    "Of course, we can’t just randomly connect neurons to each other and expect everything to work perfectly. The design of a neural network is based on the way our brains process data by structuring neurons into groups of computational “units.” For example, the human visual cortex consists of 5 distinct sections called V1, V2, V3, V4, and V5. Visual stimuli travels from the retina to V1 where low-level details such as edges and colors are picked out. The information generated by V1 then travels to V2, and then V3 and so on, with each cortex processing progressively more and more complicated information.\n",
    "\n",
    "<img src=\"https://ml.berkeley.edu/blog/assets/tutorials/3/neural%20network.png\" alt=\"\" style=\"width:355px;float:middle;\"/>\n",
    "<center>*Neural networks are composed of layers, with connections from one layer to the next layer*</center>\n",
    "\n",
    "Artificial neural network are composed of layers of artificial neurons in a similar way. In general, there are three types of layers: an input layer, one or more hidden layers, and an output layer. The input layer (on the very left) will take on values of whatever the input is to the the neural network. Notice that we can have our network take any number of inputs by changing the number of neurons in the input layer. Neat!\n",
    "\n",
    "Similarly, the output of the output layer (on the very right) will be the output of the whole neural network, and we can change the number of neurons in the output layer to match the number of outputs we want from our network.\n",
    "\n",
    "Between the input layer and the output layer are hidden layers. The optimal number of hidden layers is the subject of much discussion, but the short answer is that it’s completely up to whoever builds the network. For simplicity, we’ll talk about a network with one hidden layer.\n",
    "\n",
    "Finally, each layer is **fully connected** to the one before it and after it. This means the output of a single neuron in a layer connects to (or is the input of) every neuron in the next layer, because the information that a neuron provides in one layer could be useful to any neuron in the next layer. Between each connection is a weight that the output is weighted by.\n",
    "\n",
    "***Let’s go through a visual example:***\n",
    "\n",
    "#### <span style=\"color: red\">CANVAS EXAMPLE HERE (if possible)</span>\n",
    "\n",
    "<img style=\"max-width:500px;\" src=\"https://cdn-images-1.medium.com/max/1600/1*Lt8RZaeQ6f6B_eA1oD32JQ.png\"/>\n",
    "\n",
    "<hr/>"
   ]
  },
  {
   "cell_type": "markdown",
   "metadata": {},
   "source": [
    "### <span style=\"color: blue\">How a Neural Network “Works”</span>\n",
    "\n",
    "<img src=\"https://ml.berkeley.edu/blog/assets/tutorials/3/dogeml.jpeg\" alt=\"\" style=\"width:355px;float:middle;\"/>\n",
    "<center>*You've been visited by ML-Doge! Please don't overfit!*</center>\n",
    "\n",
    "Say you’re trying to recognize Doge. Do the pink and green blobs(flowers) in the background matter when trying to identify the main object in the picture? Probably not, so that information can probably be discarded.\n",
    "\n",
    "So what information is relevant? Well, the object has lines of dark and white pixels that indicate fur, ovals that indicate eyes, triangular things that are probably ears, and a big dark triangle-oval patch that seems to be a nose.\n",
    "\n",
    "Many people will probably immediately recognize the object as a dog, but what gives it away? Fur, eyes, ears, and nose are all indications, but they must be considered together in order to figure out that the object is a dog.\n",
    "\n",
    "*We can visualize this thought process with various neurons tasked with identifying increasingly abstract objects in the image:*\n",
    "\n",
    "<img src=\"https://ml.berkeley.edu/blog/assets/tutorials/3/recognize%20dog%20neural%20network.png\" alt=\"\" style=\"width:355px;float:middle;\"/>\n",
    "<center>*How someone might identify a dog. Important inputs that are given a lot of weight are highlighted in red.*</center>\n",
    "\n",
    "Notice how the neurons are organized into layers, where the further right the neurons are, the more abstract the input? In other words, the neurons on the left ask questions about general shapes and lines, whereas the neurons on the right ask questions about objects such as eyes or fur. Trained neural networks function in a very similar way, although they arrive at this conclusion after training with a lot of data. No one explicitly tells the network to identify dogs in the fashion described above.\n",
    "\n",
    "The above example just provides a rough, slightly inaccurate but conceptual understanding of what’s really happening under the hood to make the reasons behind the design of a neural network more clear. You can see some examples of what neurons “actually” see here. It takes raw data and refines it with math until it has the answer that it needs."
   ]
  },
  {
   "cell_type": "markdown",
   "metadata": {},
   "source": [
    "<br/><br/><hr/><br/><br/>\n",
    "\n",
    "## <span style=\"color: green\">SECTION 5</span>\n",
    "\n",
    "### <span style=\"color: blue\">Training</span>\n",
    "\n",
    "Okay, we’ve put it off for long enough! Let’s talk about the real meat of machine learning: The training!\n",
    "\n",
    "At its very core, training a neural network just means adjusting the parameters (i.e., the weights and biases) until our network outputs the correct answer (or at least something sufficiently close to it). Precisely how to adjust the parameters for each neuron in the network is one of the reasons why machine learning is such a complicated field of study. We’ve already covered the general strategy for adjusting the parameters in the **Regression** section of our 6th lesson and you can read about it there, but the gist of it is that you need to specify a **cost function** that quantifies how “wrong” your neural network is by outputting large values for very wrong answers and small values for more correct answers (you want the cost function to get as close to zero as possible).\n",
    "\n",
    "For example, if we feed a neural network an image of an apple and it tells us it sees an orange, then the cost for that particular example would be high. The term “cost” comes from the fact that you can think of a neural network with a high cost (and therefore many wrong answers) as bad, or expensive, and vice versa. To ensure that a neural network’s correct answer isn’t just some fluke, networks are typically trained on thousands upon thousands of training examples. Once we have a cost function and many training examples, we can then perform **gradient descent** to minimize the cost function by adjusting our parameters.\n",
    "\n",
    "To review, gradient descent is a way to find the minimum of a function. In the case of a neural network, the function that we want to minimize is the cost function. Gradient descent does this by adjusting the parameters of the network such that we get a lower value from the cost function than before. In a sense, gradient descent “moves” downhill whenever possible like an ant feeling out the slope of the terrain. And each time it moves downhill, the gradient descent “saves” its progress by updating the weights and biases in each neuron. Eventually, gradient descent will have found the very bottom of the cost function.\n",
    "\n",
    "### <span style=\"color: blue\">Back Propagation</span>\n",
    "\n",
    "Of course, gradient descent needs to know which direction is “downhill” in order to work. Using our ant analogy, an ant sitting on the cost function only knows which way to go because the part of the function it is standing on is sloped. Remember, it can’t see very far, and certainly not far enough to see where the minimum actually is. The ant’s best bet is to go the direction that is sloping downhill the most.\n",
    "\n",
    "In math terms, these slopes are derivatives. Now if you suddenly felt a panic attack settling in upon reading the word “derivative” (or if you have absolutely no idea what a derivative is) don’t worry. We’ve tried our best to make this whole section completely understandable through just intuition. On the other hand, if you suddenly felt a rush of exhilaration we encourage you to go tackle the collapsible sections at the end of this article where we derive the backpropagation formulas.\n",
    "\n",
    "The whole point of backpropagation is to find these slopes to help gradient descent work. There is in fact a different slope we need for each of our parameters. That is, going back to our machine analogy you can imagine yourself turning the knob for single parameter and watching the cost function go up or down. The slope for a particular parameter will tell you which way to turn the knob to make the cost function go down. Once we find out which way to turn each of the knobs (in other words, once we have the derivative of the cost with respect to each of the parameters: the weights and biases) we can turn each of the knobs in the correct direction a tiny bit.\n",
    "\n",
    "To introduce backpropagation, let’s start with another analogy. Don’t worry if you can’t see how this has anything to do with backpropagation (trust us, it does). Let’s say you want to push a marble off a table with a line of dominos. During your first try, you discover that the dominos were placed too far from the marble so that the last domino falls short of the marble. What do you do to fix this? You can’t move the marble, since it needs to fall off the table, so you take the domino closest to the marble and place it closer. Subsequently, you’ll need to take the second to last domino and place it closer to the one you just moved, and so on until you move the entire line of dominos closer to the marble, *starting with the domino closest to the marble*.\n",
    "\n",
    "<img src=\"https://ml.berkeley.edu/blog/assets/tutorials/3/marble%20backprop%20analogy.png\" alt=\"\" style=\"width:355px;float:middle;\"/>\n",
    "\n",
    "Backpropagation works in a similar way. When the neural network outputs the wrong answer (doesn’t push the marble off the table), you find the slopes of the output layer (the domino closest to the marble) first because it was the direct cause of the incorrect answer. And since the output layer depends on the hidden layer, you’ll have to fix that too by finding the slopes and using gradient descent. Eventually you’ll work your way back to the hidden layer closest to the input layer.\n",
    "\n",
    "<img src=\"https://ml.berkeley.edu/blog/assets/tutorials/3/backprop%20order.png\" alt=\"\" style=\"width:355px;float:middle;\"/>\n",
    "\n",
    "It turns out that once we calculate the slopes of a given layer, we can easily find the slopes of a previous layer. Intuitively, this makes sense because changing the parameters in one layer will affect the outputs of the next layer which will affect the outputs of the next layer, and so on until the cost function itself is affected. Therefore we need to know how all future layers will affect the cost function before we know how a specific layer will affect the cost function.\n",
    "\n",
    "Thus, we easily calculate the slopes of the last layer, and then the second to last layer, and end up working backwards until we reach the first, input layer. This is the namesake for our algorithm: “backpropagation.” We calculate slopes by starting from the back and propagating our algorithm backwards through the neural network until we get all the slopes for gradient descent.\n",
    "\n",
    "<img src=\"https://ml.berkeley.edu/blog/assets/tutorials/3/backprop%20slope.png\" alt=\"\" style=\"width:355px;float:middle;\"/>\n",
    "\n",
    "That, in a nutshell, is the backpropagation algorithm—the very reason cars can drive themselves, Siri can recognize your voice, and computers can read your checks. Don’t worry if you don’t understand everything immediately. For most people it takes more than a few read-throughs to fully understand what is happening. For those of you who feel affronted that the math has been skipped over, feel free to check out the next section. We first introduce notation to describe neural networks in an elegant way using matrices. Then we derive the rules of backpropagation.\n",
    "\n",
    "\n",
    "<br/><br/>\n",
    "\n",
    "**Note:** Please take 15 minutes to watch the video below. It will do a good job of clearing up some of the terminology and understanding behind backpropagation\n"
   ]
  },
  {
   "cell_type": "code",
   "execution_count": 9,
   "metadata": {},
   "outputs": [
    {
     "data": {
      "text/html": [
       "<hr/><div style=\"text-align:center\"><iframe width=\"560\" height=\"315\" src=\"https://www.youtube.com/embed/cCRnjHjBDFQ\" frameborder=\"0\" allow=\"autoplay; encrypted-media\" allowfullscreen></iframe></div><hr/>"
      ],
      "text/plain": [
       "<IPython.core.display.HTML object>"
      ]
     },
     "execution_count": 9,
     "metadata": {},
     "output_type": "execute_result"
    }
   ],
   "source": [
    "HTML('<hr/><div style=\"text-align:center\"><iframe width=\"560\" height=\"315\" src=\"https://www.youtube.com/embed/cCRnjHjBDFQ\" frameborder=\"0\" allow=\"autoplay; encrypted-media\" allowfullscreen></iframe></div><hr/>')"
   ]
  },
  {
   "cell_type": "markdown",
   "metadata": {},
   "source": [
    "## <span style=\"color: green\">SUMMARY</span>\n",
    "\n",
    "\n",
    "So far in this tutorial series we’ve talked about linear regression, logistic regression, the perceptron algorithm, and SVMs. These models are very effective and have solved some amazing problems. But at the same time, they are also very limited. For example linear regression requires the dataset to be, well, linear. And the perceptron algorithm and logistic regression can only draw a line through a dataset. Even SVMs are sensitive to what kernel is used.\n",
    "\n",
    "Neural networks, however, gives us a framework that minimizes the drawbacks of these problems. Their adaptability, effectiveness, and efficiency have transformed the world and solved some of the most intractable problems that have stalled progress in many industries. Yet we know surprisingly little about this revolutionary tool. There is a lot of ongoing research into neural networks, and the coming years are sure to hold many more revolutionary discoveries.\n",
    "\n",
    "\n",
    "***For more information and a more visual explanation of the math involved in back propagation, please visit the Tutorial link provided above and scroll to the bottom of the page - there is a button that says 'Backpropagation' - click it!***\n",
    "\n",
    "***If you would prefer a Calculus derived explanation for back propagation, please visit the following link for more info:***\n",
    "\n",
    "(http://briandolhansky.com/blog/2013/9/27/artificial-neural-networks-backpropagation-part-4)"
   ]
  },
  {
   "cell_type": "code",
   "execution_count": null,
   "metadata": {
    "collapsed": true
   },
   "outputs": [],
   "source": []
  }
 ],
 "metadata": {
  "kernelspec": {
   "display_name": "Python 3",
   "language": "python",
   "name": "python3"
  },
  "language_info": {
   "codemirror_mode": {
    "name": "ipython",
    "version": 3
   },
   "file_extension": ".py",
   "mimetype": "text/x-python",
   "name": "python",
   "nbconvert_exporter": "python",
   "pygments_lexer": "ipython3",
   "version": "3.6.3"
  }
 },
 "nbformat": 4,
 "nbformat_minor": 2
}
